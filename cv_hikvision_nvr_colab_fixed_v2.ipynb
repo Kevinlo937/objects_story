{
 "cells": [
  {
   "cell_type": "markdown",
   "metadata": {
    "id": "Ztr9iQWL9twm"
   },
   "source": [
    "# Hikvision NVR 即時影像存取與錄影系統 - Google Colab 版本 (修正版 V2)\n",
    "\n",
    "本 Notebook 提供了一個完整的解決方案，用於存取 Hikvision DS-7108N-F1/8P NVR 的即時影像，並能依時段進行存檔。這是「出入口即時包裹與人物意圖偵測系統」的第一階段實現，特別針對 Google Colab 環境進行了優化。\n",
    "\n",
    "## 功能特點\n",
    "\n",
    "- 透過 RTSP 協議連接到 Hikvision NVR 攝影機\n",
    "- 支援使用者認證（帳號/密碼）\n",
    "- 支援多個攝影機通道\n",
    "- 支援主碼流和子碼流選擇\n",
    "- 依時段自動分割錄影檔案\n",
    "- 即時預覽攝影機畫面\n",
    "- 支援 Google Drive 儲存錄影檔案\n",
    "- 提供錄影檔案下載功能\n",
    "- 完整的錯誤處理和日誌記錄"
   ]
  },
  {
   "cell_type": "markdown",
   "metadata": {
    "id": "YIndSWFt9twp"
   },
   "source": [
    "## 1. 安裝必要的套件\n",
    "\n",
    "首先，我們需要安裝必要的套件。在 Google Colab 中，OpenCV 和 NumPy 已經預先安裝，但我們還需要確保其他相依套件也已安裝。"
   ]
  },
  {
   "cell_type": "code",
   "execution_count": null,
   "metadata": {
    "colab": {
     "base_uri": "https://localhost:8080/"
    },
    "executionInfo": {
     "elapsed": 14038,
     "status": "ok",
     "timestamp": 1745719196512,
     "user": {
      "displayName": "羅文龍（Kevin）",
      "userId": "09597579618623360141"
     },
     "user_tz": -480
    },
    "id": "dHfFvL-m9twp",
    "outputId": "72e7ed3a-fb11-4ce4-e487-b5321ce80eac"
   },
   "outputs": [
    {
     "name": "stdout",
     "output_type": "stream",
     "text": [
      "Requirement already satisfied: opencv-python-headless in /usr/local/lib/python3.11/dist-packages (4.11.0.86)\n",
      "Requirement already satisfied: numpy in /usr/local/lib/python3.11/dist-packages (2.0.2)\n",
      "Requirement already satisfied: matplotlib in /usr/local/lib/python3.11/dist-packages (3.10.0)\n",
      "Requirement already satisfied: contourpy>=1.0.1 in /usr/local/lib/python3.11/dist-packages (from matplotlib) (1.3.2)\n",
      "Requirement already satisfied: cycler>=0.10 in /usr/local/lib/python3.11/dist-packages (from matplotlib) (0.12.1)\n",
      "Requirement already satisfied: fonttools>=4.22.0 in /usr/local/lib/python3.11/dist-packages (from matplotlib) (4.57.0)\n",
      "Requirement already satisfied: kiwisolver>=1.3.1 in /usr/local/lib/python3.11/dist-packages (from matplotlib) (1.4.8)\n",
      "Requirement already satisfied: packaging>=20.0 in /usr/local/lib/python3.11/dist-packages (from matplotlib) (24.2)\n",
      "Requirement already satisfied: pillow>=8 in /usr/local/lib/python3.11/dist-packages (from matplotlib) (11.1.0)\n",
      "Requirement already satisfied: pyparsing>=2.3.1 in /usr/local/lib/python3.11/dist-packages (from matplotlib) (3.2.3)\n",
      "Requirement already satisfied: python-dateutil>=2.7 in /usr/local/lib/python3.11/dist-packages (from matplotlib) (2.8.2)\n",
      "Requirement already satisfied: six>=1.5 in /usr/local/lib/python3.11/dist-packages (from python-dateutil>=2.7->matplotlib) (1.17.0)\n"
     ]
    }
   ],
   "source": [
    "# 安裝必要的套件\n",
    "!pip install opencv-python-headless numpy matplotlib"
   ]
  },
  {
   "cell_type": "markdown",
   "metadata": {
    "id": "wZEuwnjb9twq"
   },
   "source": [
    "## 2. Hikvision NVR 攝影機存取模組\n",
    "\n",
    "以下是用於存取 Hikvision NVR 攝影機的主要模組。這個模組提供了連接到 NVR、取得即時影像、錄影和預覽等功能。"
   ]
  },
  {
   "cell_type": "code",
   "execution_count": null,
   "metadata": {
    "id": "QyP9lISi9twq"
   },
   "outputs": [],
   "source": [
    "import cv2\n",
    "import numpy as np\n",
    "import os\n",
    "import time\n",
    "import datetime\n",
    "import logging\n",
    "from threading import Thread\n",
    "from google.colab import files\n",
    "from google.colab import drive\n",
    "import matplotlib.pyplot as plt\n",
    "from IPython.display import display, clear_output\n",
    "\n",
    "# Configure logging\n",
    "logging.basicConfig(\n",
    "    level=logging.INFO,\n",
    "    format='%(asctime)s - %(name)s - %(levelname)s - %(message)s'\n",
    ")\n",
    "logger = logging.getLogger(\"HikvisionNVR\")\n",
    "\n",
    "class HikvisionNVRCamera:\n",
    "    \"\"\"Class to handle Hikvision NVR camera access and recording.\"\"\"\n",
    "\n",
    "    def __init__(self, nvr_ip, rtsp_port=554, username=None, password=None,\n",
    "                 channel=1, stream_type=1, output_dir=\"recordings\", use_drive=False):\n",
    "        \"\"\"\n",
    "        Initialize the Hikvision NVR camera connection.\n",
    "\n",
    "        Args:\n",
    "            nvr_ip (str): IP address of the NVR\n",
    "            rtsp_port (int): RTSP port (default: 554)\n",
    "            username (str): Username for authentication\n",
    "            password (str): Password for authentication\n",
    "            channel (int): Camera channel number (default: 1)\n",
    "            stream_type (int): Stream type (1 for main stream, 2 for sub stream)\n",
    "            output_dir (str): Directory to save recordings\n",
    "            use_drive (bool): Whether to use Google Drive for storage\n",
    "        \"\"\"\n",
    "        self.nvr_ip = nvr_ip\n",
    "        self.rtsp_port = rtsp_port\n",
    "        self.username = username\n",
    "        self.password = password\n",
    "        self.channel = channel\n",
    "        self.stream_type = stream_type\n",
    "        self.use_drive = use_drive\n",
    "\n",
    "        # Set up output directory\n",
    "        if use_drive:\n",
    "            # Mount Google Drive if not already mounted\n",
    "            if not os.path.exists('/content/drive'):\n",
    "                print(\"Mounting Google Drive...\")\n",
    "                drive.mount('/content/drive')\n",
    "\n",
    "            # Use a directory in Google Drive\n",
    "            self.output_dir = f\"/content/drive/MyDrive/{output_dir}\"\n",
    "        else:\n",
    "            # Use local Colab directory\n",
    "            self.output_dir = f\"/content/{output_dir}\"\n",
    "\n",
    "        self.cap = None\n",
    "        self.is_recording = False\n",
    "        self.current_writer = None\n",
    "        self.current_output_file = None\n",
    "        self.preview_thread = None\n",
    "        self.is_previewing = False\n",
    "        self.latest_frame = None\n",
    "\n",
    "        # Create output directory if it doesn't exist\n",
    "        if not os.path.exists(self.output_dir):\n",
    "            os.makedirs(self.output_dir)\n",
    "\n",
    "        # Construct RTSP URL\n",
    "        self.rtsp_url = self._construct_rtsp_url()\n",
    "\n",
    "    def _construct_rtsp_url(self):\n",
    "        \"\"\"\n",
    "        Construct the RTSP URL based on the provided parameters.\n",
    "\n",
    "        Returns:\n",
    "            str: RTSP URL for the camera stream\n",
    "        \"\"\"\n",
    "        # Format: rtsp://username:password@ip:port/Streaming/channels/channel_number+stream_type\n",
    "        channel_stream = f\"{self.channel}0{self.stream_type}\"\n",
    "\n",
    "        if self.username and self.password:\n",
    "            return f\"rtsp://{self.username}:{self.password}@{self.nvr_ip}:{self.rtsp_port}/Streaming/channels/{channel_stream}\"\n",
    "        else:\n",
    "            return f\"rtsp://{self.nvr_ip}:{self.rtsp_port}/Streaming/channels/{channel_stream}\"\n",
    "\n",
    "    def connect(self):\n",
    "        \"\"\"\n",
    "        Connect to the camera stream.\n",
    "\n",
    "        Returns:\n",
    "            bool: True if connection is successful, False otherwise\n",
    "        \"\"\"\n",
    "        logger.info(f\"Connecting to camera at {self.rtsp_url}\")\n",
    "\n",
    "        # Create VideoCapture object\n",
    "        self.cap = cv2.VideoCapture(self.rtsp_url)\n",
    "\n",
    "        # Check if connection is successful\n",
    "        if not self.cap.isOpened():\n",
    "            logger.error(\"Failed to connect to the camera\")\n",
    "            return False\n",
    "\n",
    "        logger.info(\"Successfully connected to the camera\")\n",
    "        return True\n",
    "\n",
    "    def disconnect(self):\n",
    "        \"\"\"Disconnect from the camera stream.\"\"\"\n",
    "        if self.cap and self.cap.isOpened():\n",
    "            self.cap.release()\n",
    "            logger.info(\"Disconnected from the camera\")\n",
    "\n",
    "    def start_recording(self, duration_seconds=3600, fps=None):\n",
    "        \"\"\"\n",
    "        Start recording video from the camera.\n",
    "\n",
    "        Args:\n",
    "            duration_seconds (int): Duration of each video segment in seconds\n",
    "            fps (int): Frames per second for recording (None to use camera's FPS)\n",
    "        \"\"\"\n",
    "        if not self.cap or not self.cap.isOpened():\n",
    "            logger.error(\"Camera is not connected. Call connect() first.\")\n",
    "            return\n",
    "\n",
    "        self.is_recording = True\n",
    "\n",
    "        # Get video properties\n",
    "        if fps is None:\n",
    "            fps = int(self.cap.get(cv2.CAP_PROP_FPS))\n",
    "            if fps <= 0:  # If FPS is not available or invalid\n",
    "                fps = 30  # Default to 30 FPS\n",
    "\n",
    "        width = int(self.cap.get(cv2.CAP_PROP_FRAME_WIDTH))\n",
    "        height = int(self.cap.get(cv2.CAP_PROP_FRAME_HEIGHT))\n",
    "\n",
    "        logger.info(f\"Video properties: {width}x{height} at {fps} FPS\")\n",
    "\n",
    "        # Start recording thread\n",
    "        recording_thread = Thread(target=self._recording_loop,\n",
    "                                 args=(duration_seconds, fps, width, height))\n",
    "        recording_thread.daemon = True\n",
    "        recording_thread.start()\n",
    "\n",
    "        logger.info(\"Recording started\")\n",
    "        print(\"Recording started. Videos will be saved to:\", self.output_dir)\n",
    "\n",
    "    def stop_recording(self):\n",
    "        \"\"\"Stop recording video.\"\"\"\n",
    "        self.is_recording = False\n",
    "        if self.current_writer:\n",
    "            self.current_writer.release()\n",
    "            self.current_writer = None\n",
    "            logger.info(f\"Recording stopped and saved to {self.current_output_file}\")\n",
    "            print(f\"Recording stopped and saved to {self.current_output_file}\")\n",
    "\n",
    "    def _recording_loop(self, duration_seconds, fps, width, height):\n",
    "        \"\"\"\n",
    "        Recording loop to capture frames and save to file.\n",
    "\n",
    "        Args:\n",
    "            duration_seconds (int): Duration of each video segment in seconds\n",
    "            fps (int): Frames per second\n",
    "            width (int): Frame width\n",
    "            height (int): Frame height\n",
    "        \"\"\"\n",
    "        segment_start_time = time.time()\n",
    "        frames_in_segment = 0\n",
    "\n",
    "        # Create initial video writer\n",
    "        self._create_new_video_writer(fps, width, height)\n",
    "\n",
    "        while self.is_recording:\n",
    "            # Read frame from camera\n",
    "            ret, frame = self.cap.read()\n",
    "\n",
    "            if not ret:\n",
    "                logger.warning(\"Failed to read frame from camera\")\n",
    "                # Try to reconnect\n",
    "                self.disconnect()\n",
    "                time.sleep(2)\n",
    "                if self.connect():\n",
    "                    continue\n",
    "                else:\n",
    "                    break\n",
    "\n",
    "            # Store latest frame for preview\n",
    "            self.latest_frame = frame.copy()\n",
    "\n",
    "            # Write frame to video file\n",
    "            if self.current_writer:\n",
    "                self.current_writer.write(frame)\n",
    "                frames_in_segment += 1\n",
    "\n",
    "            # Check if it's time to start a new segment\n",
    "            current_time = time.time()\n",
    "            if current_time - segment_start_time >= duration_seconds:\n",
    "                # Close current writer\n",
    "                if self.current_writer:\n",
    "                    self.current_writer.release()\n",
    "\n",
    "                # Create new writer\n",
    "                self._create_new_video_writer(fps, width, height)\n",
    "\n",
    "                # Reset segment variables\n",
    "                segment_start_time = current_time\n",
    "                frames_in_segment = 0\n",
    "\n",
    "                logger.info(f\"Started new video segment: {self.current_output_file}\")\n",
    "                print(f\"Started new video segment: {self.current_output_file}\")\n",
    "\n",
    "    def _create_new_video_writer(self, fps, width, height):\n",
    "        \"\"\"\n",
    "        Create a new video writer for a new segment.\n",
    "\n",
    "        Args:\n",
    "            fps (int): Frames per second\n",
    "            width (int): Frame width\n",
    "            height (int): Frame height\n",
    "        \"\"\"\n",
    "        # Generate filename with timestamp\n",
    "        timestamp = datetime.datetime.now().strftime(\"%Y%m%d_%H%M%S\")\n",
    "        filename = f\"cam{self.channel}_{timestamp}.mp4\"\n",
    "        self.current_output_file = os.path.join(self.output_dir, filename)\n",
    "\n",
    "        # Create video writer\n",
    "        fourcc = cv2.VideoWriter_fourcc(*'mp4v')\n",
    "        self.current_writer = cv2.VideoWriter(\n",
    "            self.current_output_file, fourcc, fps, (width, height)\n",
    "        )\n",
    "\n",
    "        if not self.current_writer.isOpened():\n",
    "            logger.error(f\"Failed to create video writer for {self.current_output_file}\")\n",
    "            self.current_writer = None\n",
    "\n",
    "    def start_preview(self, interval=1.0):\n",
    "        \"\"\"\n",
    "        Start displaying preview frames in the notebook.\n",
    "        This is a fixed version that works reliably in Colab.\n",
    "\n",
    "        Args:\n",
    "            interval (float): Update interval in seconds\n",
    "        \"\"\"\n",
    "        if not self.cap or not self.cap.isOpened():\n",
    "            logger.error(\"Camera is not connected. Call connect() first.\")\n",
    "            return\n",
    "\n",
    "        self.is_previewing = True\n",
    "\n",
    "        # Create preview thread\n",
    "        self.preview_thread = Thread(target=self._preview_loop, args=(interval,))\n",
    "        self.preview_thread.daemon = True\n",
    "        self.preview_thread.start()\n",
    "\n",
    "        logger.info(\"Preview started\")\n",
    "        print(\"Preview started. Images will update every\", interval, \"seconds.\")\n",
    "        print(\"Note: You will see the preview images appear below.\")\n",
    "\n",
    "    def stop_preview(self):\n",
    "        \"\"\"Stop displaying preview frames.\"\"\"\n",
    "        self.is_previewing = False\n",
    "        logger.info(\"Preview stopped\")\n",
    "        print(\"Preview stopped.\")\n",
    "\n",
    "    def _preview_loop(self, interval):\n",
    "        \"\"\"\n",
    "        Preview loop to display frames in the notebook.\n",
    "        This is a fixed version that works reliably in Colab.\n",
    "\n",
    "        Args:\n",
    "            interval (float): Update interval in seconds\n",
    "        \"\"\"\n",
    "        while self.is_previewing:\n",
    "            # Capture a fresh frame directly\n",
    "            ret, frame = self.cap.read()\n",
    "\n",
    "            if ret:\n",
    "                # Convert BGR to RGB for display\n",
    "                frame_rgb = cv2.cvtColor(frame, cv2.COLOR_BGR2RGB)\n",
    "\n",
    "                # Clear previous output and display new frame\n",
    "                clear_output(wait=True)\n",
    "                plt.figure(figsize=(10, 8))\n",
    "                plt.imshow(frame_rgb)\n",
    "                plt.axis('off')\n",
    "                plt.title(f\"Camera {self.channel} - Live Preview (Updated: {datetime.datetime.now().strftime('%H:%M:%S')})\")\n",
    "                plt.show()\n",
    "            else:\n",
    "                logger.warning(\"Failed to read frame in preview loop\")\n",
    "                time.sleep(1)  # Wait a bit before trying again\n",
    "\n",
    "            # Wait for the next update\n",
    "            time.sleep(interval)\n",
    "\n",
    "    def show_single_frame(self):\n",
    "        \"\"\"\n",
    "        Display a single frame from the camera.\n",
    "        This improved version ensures a fresh frame is captured each time.\n",
    "\n",
    "        Returns:\n",
    "            bool: True if frame was displayed, False otherwise\n",
    "        \"\"\"\n",
    "        if not self.cap or not self.cap.isOpened():\n",
    "            logger.error(\"Camera is not connected. Call connect() first.\")\n",
    "            return False\n",
    "\n",
    "        # Reset the buffer by grabbing a few frames and discarding them\n",
    "        for _ in range(3):\n",
    "            self.cap.grab()\n",
    "\n",
    "        # Read a fresh frame from camera\n",
    "        ret, frame = self.cap.read()\n",
    "\n",
    "        if not ret:\n",
    "            logger.error(\"Failed to read frame from camera\")\n",
    "            return False\n",
    "\n",
    "        # Convert BGR to RGB for display\n",
    "        frame_rgb = cv2.cvtColor(frame, cv2.COLOR_BGR2RGB)\n",
    "\n",
    "        # Display the frame\n",
    "        plt.figure(figsize=(10, 8))\n",
    "        plt.imshow(frame_rgb)\n",
    "        plt.axis('off')\n",
    "        plt.title(f\"Camera {self.channel} - Single Frame ({datetime.datetime.now().strftime('%Y-%m-%d %H:%M:%S')})\")\n",
    "        plt.show()\n",
    "\n",
    "        return True\n",
    "\n",
    "    def capture_snapshot(self, filename=None):\n",
    "        \"\"\"\n",
    "        Capture a snapshot from the camera.\n",
    "\n",
    "        Args:\n",
    "            filename (str): Optional filename for the snapshot\n",
    "\n",
    "        Returns:\n",
    "            str: Path to the saved snapshot file\n",
    "        \"\"\"\n",
    "        if not self.cap or not self.cap.isOpened():\n",
    "            logger.error(\"Camera is not connected. Call connect() first.\")\n",
    "            return None\n",
    "\n",
    "        # Reset the buffer by grabbing a few frames and discarding them\n",
    "        for _ in range(3):\n",
    "            self.cap.grab()\n",
    "\n",
    "        # Read a fresh frame from camera\n",
    "        ret, frame = self.cap.read()\n",
    "\n",
    "        if not ret:\n",
    "            logger.error(\"Failed to capture snapshot\")\n",
    "            return None\n",
    "\n",
    "        # Generate filename if not provided\n",
    "        if filename is None:\n",
    "            timestamp = datetime.datetime.now().strftime(\"%Y%m%d_%H%M%S\")\n",
    "            filename = f\"snapshot_cam{self.channel}_{timestamp}.jpg\"\n",
    "\n",
    "        # Save the snapshot\n",
    "        snapshot_path = os.path.join(self.output_dir, filename)\n",
    "        cv2.imwrite(snapshot_path, frame)\n",
    "\n",
    "        logger.info(f\"Snapshot saved to {snapshot_path}\")\n",
    "        print(f\"Snapshot saved to {snapshot_path}\")\n",
    "\n",
    "        # Display the snapshot\n",
    "        frame_rgb = cv2.cvtColor(frame, cv2.COLOR_BGR2RGB)\n",
    "        plt.figure(figsize=(10, 8))\n",
    "        plt.imshow(frame_rgb)\n",
    "        plt.axis('off')\n",
    "        plt.title(\"Captured Snapshot\")\n",
    "        plt.show()\n",
    "\n",
    "        return snapshot_path\n",
    "\n",
    "    def download_recording(self, filename=None):\n",
    "        \"\"\"\n",
    "        Download a recording file from Colab to local machine.\n",
    "\n",
    "        Args:\n",
    "            filename (str): Name of the file to download (if None, downloads the latest recording)\n",
    "        \"\"\"\n",
    "        if filename is None and self.current_output_file:\n",
    "            filename = os.path.basename(self.current_output_file)\n",
    "\n",
    "        if filename:\n",
    "            file_path = os.path.join(self.output_dir, filename)\n",
    "            if os.path.exists(file_path):\n",
    "                files.download(file_path)\n",
    "                print(f\"Downloading {file_path}...\")\n",
    "            else:\n",
    "                print(f\"File not found: {file_path}\")\n",
    "        else:\n",
    "            print(\"No recording file available for download\")\n",
    "\n",
    "    def list_recordings(self):\n",
    "        \"\"\"\n",
    "        List all recording files in the output directory.\n",
    "\n",
    "        Returns:\n",
    "            list: List of recording filenames\n",
    "        \"\"\"\n",
    "        if os.path.exists(self.output_dir):\n",
    "            recordings = [f for f in os.listdir(self.output_dir) if f.endswith('.mp4')]\n",
    "            recordings.sort(reverse=True)  # Sort by newest first\n",
    "\n",
    "            if recordings:\n",
    "                print(f\"Found {len(recordings)} recordings:\")\n",
    "                for i, rec in enumerate(recordings):\n",
    "                    print(f\"{i+1}. {rec}\")\n",
    "            else:\n",
    "                print(\"No recordings found\")\n",
    "\n",
    "            return recordings\n",
    "        else:\n",
    "            print(f\"Output directory not found: {self.output_dir}\")\n",
    "            return []\n",
    "\n",
    "# Helper functions\n",
    "def test_connection(rtsp_url, timeout=10):\n",
    "    \"\"\"\n",
    "    Test connection to the Hikvision NVR camera.\n",
    "\n",
    "    Args:\n",
    "        rtsp_url (str): RTSP URL for the camera stream\n",
    "        timeout (int): Connection timeout in seconds\n",
    "\n",
    "    Returns:\n",
    "        bool: True if connection is successful, False otherwise\n",
    "    \"\"\"\n",
    "    print(f\"Testing connection to: {rtsp_url}\")\n",
    "    print(\"Attempting to connect (this may take a few seconds)...\")\n",
    "\n",
    "    # Create VideoCapture object\n",
    "    cap = cv2.VideoCapture(rtsp_url)\n",
    "\n",
    "    # Wait for connection to establish\n",
    "    start_time = time.time()\n",
    "    connected = False\n",
    "\n",
    "    while time.time() - start_time < timeout:\n",
    "        if cap.isOpened():\n",
    "            connected = True\n",
    "            break\n",
    "        time.sleep(0.5)\n",
    "\n",
    "    if not connected:\n",
    "        print(\"Failed to connect to the camera within the timeout period.\")\n",
    "        cap.release()\n",
    "        return False\n",
    "\n",
    "    # Try to read a frame\n",
    "    ret, frame = cap.read()\n",
    "\n",
    "    if not ret:\n",
    "        print(\"Connected to camera but failed to read frame.\")\n",
    "        cap.release()\n",
    "        return False\n",
    "\n",
    "    # Get video properties\n",
    "    width = int(cap.get(cv2.CAP_PROP_FRAME_WIDTH))\n",
    "    height = int(cap.get(cv2.CAP_PROP_FRAME_HEIGHT))\n",
    "    fps = cap.get(cv2.CAP_PROP_FPS)\n",
    "\n",
    "    print(\"\\nConnection successful!\")\n",
    "    print(f\"Video properties: {width}x{height} at {fps} FPS\")\n",
    "\n",
    "    # Display a sample frame\n",
    "    frame_rgb = cv2.cvtColor(frame, cv2.COLOR_BGR2RGB)\n",
    "    plt.figure(figsize=(10, 8))\n",
    "    plt.imshow(frame_rgb)\n",
    "    plt.axis('off')\n",
    "    plt.title(\"Sample Frame from Camera\")\n",
    "    plt.show()\n",
    "\n",
    "    # Release the capture\n",
    "    cap.release()\n",
    "    return True\n",
    "\n",
    "def construct_rtsp_url(ip, port, username, password, channel, stream_type):\n",
    "    \"\"\"\n",
    "    Construct the RTSP URL based on the provided parameters.\n",
    "\n",
    "    Args:\n",
    "        ip (str): IP address of the NVR\n",
    "        port (int): RTSP port\n",
    "        username (str): Username for authentication\n",
    "        password (str): Password for authentication\n",
    "        channel (int): Camera channel number\n",
    "        stream_type (int): Stream type (1 for main stream, 2 for sub stream)\n",
    "\n",
    "    Returns:\n",
    "        str: RTSP URL for the camera stream\n",
    "    \"\"\"\n",
    "    # Format: rtsp://username:password@ip:port/Streaming/channels/channel_number+stream_type\n",
    "    channel_stream = f\"{channel}0{stream_type}\"\n",
    "\n",
    "    if username and password:\n",
    "        return f\"rtsp://{username}:{password}@{ip}:{port}/Streaming/channels/{channel_stream}\"\n",
    "    else:\n",
    "        return f\"rtsp://{ip}:{port}/Streaming/channels/{channel_stream}\""
   ]
  },
  {
   "cell_type": "markdown",
   "metadata": {
    "id": "74GcUMmY9twr"
   },
   "source": [
    "## 3. 測試連接到 Hikvision NVR\n",
    "\n",
    "在開始錄影之前，我們應該先測試與 NVR 的連接。以下是一個測試連接的範例。請將 NVR 的 IP 地址、端口、用戶名和密碼替換為您的實際值。"
   ]
  },
  {
   "cell_type": "code",
   "execution_count": null,
   "metadata": {
    "colab": {
     "base_uri": "https://localhost:8080/",
     "height": 582
    },
    "executionInfo": {
     "elapsed": 4491,
     "status": "ok",
     "timestamp": 1745719316261,
     "user": {
      "displayName": "羅文龍（Kevin）",
      "userId": "09597579618623360141"
     },
     "user_tz": -480
    },
    "id": "mgmpKlR79tws",
    "outputId": "df41c6dd-45ac-4ac5-9ea5-78afd7855dc5"
   },
   "outputs": [],
   "source": [
    "# 設定 NVR 參數\n",
    "NVR_IP = \"192.168.1.1\"  # 請更改為您的 NVR IP 地址\n",
    "RTSP_PORT = 554\n",
    "USERNAME = \"username\"  # 請更改為您的 NVR 使用者名稱\n",
    "PASSWORD = \"password\"  # 請更改為您的 NVR 密碼\n",
    "CHANNEL = 1  # 攝影機通道號碼\n",
    "STREAM_TYPE = 1  # 1 為主碼流，2 為子碼流\n",
    "\n",
    "# 構建 RTSP URL\n",
    "rtsp_url = construct_rtsp_url(\n",
    "    NVR_IP, RTSP_PORT, USERNAME, PASSWORD, CHANNEL, STREAM_TYPE\n",
    ")\n",
    "\n",
    "# 測試連接\n",
    "connection_successful = test_connection(rtsp_url, timeout=15)"
   ]
  },
  {
   "cell_type": "code",
   "execution_count": null,
   "metadata": {
    "id": "WTHMUFk7OUb0"
   },
   "outputs": [],
   "source": [
    "def construct_XVR_rtsp_url(ip, port, username, password, channel, stream_type):\n",
    "    \"\"\"\n",
    "    Construct the RTSP URL based on the provided parameters.\n",
    "\n",
    "    Args:\n",
    "        ip (str): IP address of the NVR\n",
    "        port (int): RTSP port\n",
    "        username (str): Username for authentication\n",
    "        password (str): Password for authentication\n",
    "        channel (int): Camera channel number\n",
    "        stream_type (int): Stream type (1 for main stream, 2 for sub stream)\n",
    "\n",
    "    Returns:\n",
    "        str: RTSP URL for the camera stream\n",
    "    \"\"\"\n",
    "    # Format: rtsp://username:password@ip:port/Streaming/channels/channel_number+stream_type\n",
    "    '''\n",
    "    rtsp://<用戶名>:<密碼>@<IP地址>:<端口>/cam/realmonitor?channel=1&subtype=0\n",
    "    channel: 頻道, 1-16; subtype: 碼流類型, 主碼流 0, 輔碼流 1.\n",
    "    '''\n",
    "    channel_stream = f\"{channel}0{stream_type}\"\n",
    "\n",
    "    if username and password:\n",
    "        return f\"rtsp://{username}:{password}@{ip}:{port}/cam/realmonitor?channel={channel}&subtype={stream_type}\"\n",
    "    else:\n",
    "        return f\"rtsp://{ip}:{port}/cam/realmonitor?channel={channel}&subtype={stream_type}\""
   ]
  },
  {
   "cell_type": "code",
   "execution_count": null,
   "metadata": {
    "colab": {
     "base_uri": "https://localhost:8080/",
     "height": 582
    },
    "executionInfo": {
     "elapsed": 4621,
     "status": "ok",
     "timestamp": 1745908036989,
     "user": {
      "displayName": "羅文龍（Kevin）",
      "userId": "09597579618623360141"
     },
     "user_tz": -480
    },
    "id": "P5j_ZOuDJk8D",
    "outputId": "d33e6259-1b98-4202-8919-edd6e804061e"
   },
   "outputs": [],
   "source": [
    "# 設定 環中 XVR 參數\n",
    "NVR_IP = \"192.168.2.1\"  # 請更改為您的 NVR IP 地址\n",
    "RTSP_PORT = 554\n",
    "USERNAME = \"username\"  # 請更改為您的 NVR 使用者名稱\n",
    "PASSWORD = \"password\"  # 請更改為您的 NVR 密碼\n",
    "CHANNEL = 1  # 攝影機通道號碼\n",
    "STREAM_TYPE = 0  # 0 為主碼流，1 為子碼流\n",
    "\n",
    "\n",
    "# 構建 RTSP URL\n",
    "rtsp_url = construct_XVR_rtsp_url(\n",
    "    NVR_IP, RTSP_PORT, USERNAME, PASSWORD, CHANNEL, STREAM_TYPE\n",
    ")\n",
    "\n",
    "# 測試連接\n",
    "connection_successful = test_connection(rtsp_url, timeout=15)"
   ]
  },
  {
   "cell_type": "markdown",
   "metadata": {
    "id": "NxUtPf9J9tws"
   },
   "source": [
    "## 4. 使用 HikvisionNVRCamera 類別\n",
    "\n",
    "如果連接測試成功，我們可以使用 `HikvisionNVRCamera` 類別來存取攝影機並進行錄影。"
   ]
  },
  {
   "cell_type": "code",
   "execution_count": null,
   "metadata": {
    "id": "-ZRTZYt-9tws"
   },
   "outputs": [],
   "source": [
    "# 創建攝影機物件\n",
    "camera = HikvisionNVRCamera(\n",
    "    nvr_ip=NVR_IP,\n",
    "    rtsp_port=RTSP_PORT,\n",
    "    username=USERNAME,\n",
    "    password=PASSWORD,\n",
    "    channel=CHANNEL,\n",
    "    stream_type=STREAM_TYPE,\n",
    "    output_dir=\"hikvision_recordings\",  # 錄影檔案儲存目錄\n",
    "    use_drive=False  # 設為 True 以使用 Google Drive 儲存錄影檔案\n",
    ")"
   ]
  },
  {
   "cell_type": "markdown",
   "metadata": {
    "id": "YB2C4cgm9tws"
   },
   "source": [
    "### 4.1 連接到攝影機"
   ]
  },
  {
   "cell_type": "code",
   "execution_count": null,
   "metadata": {
    "colab": {
     "base_uri": "https://localhost:8080/"
    },
    "executionInfo": {
     "elapsed": 2609,
     "status": "ok",
     "timestamp": 1745719331302,
     "user": {
      "displayName": "羅文龍（Kevin）",
      "userId": "09597579618623360141"
     },
     "user_tz": -480
    },
    "id": "H-cxmuvc9twt",
    "outputId": "973334af-f747-457f-9fa0-c04c2d2d157f"
   },
   "outputs": [
    {
     "name": "stdout",
     "output_type": "stream",
     "text": [
      "成功連接到攝影機！\n"
     ]
    }
   ],
   "source": [
    "# 連接到攝影機\n",
    "if camera.connect():\n",
    "    print(\"成功連接到攝影機！\")\n",
    "else:\n",
    "    print(\"無法連接到攝影機，請檢查 NVR 設定和網路連接。\")"
   ]
  },
  {
   "cell_type": "markdown",
   "metadata": {
    "id": "QAJmclNF9twt"
   },
   "source": [
    "### 4.2 顯示單一畫面 (改進版)\n",
    "\n",
    "我們可以使用 `show_single_frame()` 方法來顯示攝影機的單一畫面。這個改進版本會確保每次都讀取最新的即時畫面，而不是顯示上一次的畫面。"
   ]
  },
  {
   "cell_type": "code",
   "execution_count": null,
   "metadata": {
    "colab": {
     "base_uri": "https://localhost:8080/",
     "height": 512
    },
    "executionInfo": {
     "elapsed": 619,
     "status": "ok",
     "timestamp": 1745719377262,
     "user": {
      "displayName": "羅文龍（Kevin）",
      "userId": "09597579618623360141"
     },
     "user_tz": -480
    },
    "id": "LYmptL7G9twt",
    "outputId": "8bd89876-c864-43ea-a9f7-ae6e626b5e08"
   },
   "outputs": [],
   "source": [
    "# 顯示單一畫面\n",
    "camera.show_single_frame()"
   ]
  },
  {
   "cell_type": "markdown",
   "metadata": {
    "id": "bo_gYxwe9twt"
   },
   "source": [
    "### 4.3 開始預覽攝影機畫面 (改進版)\n",
    "\n",
    "我們可以使用 `start_preview()` 方法來顯示攝影機的即時畫面。這個版本已經改進，可以在 Colab 中正常運作，並且每次都會讀取最新的畫面。"
   ]
  },
  {
   "cell_type": "code",
   "execution_count": null,
   "metadata": {
    "colab": {
     "base_uri": "https://localhost:8080/"
    },
    "executionInfo": {
     "elapsed": 43,
     "status": "ok",
     "timestamp": 1745719392243,
     "user": {
      "displayName": "羅文龍（Kevin）",
      "userId": "09597579618623360141"
     },
     "user_tz": -480
    },
    "id": "DvOWeqTd9twt",
    "outputId": "d62d42ec-0c0a-48bb-d6fe-e6e29caee9c1"
   },
   "outputs": [
    {
     "name": "stdout",
     "output_type": "stream",
     "text": [
      "Preview started. Images will update every 1.0 seconds.\n",
      "Note: You will see the preview images appear below.\n"
     ]
    }
   ],
   "source": [
    "# 開始預覽攝影機畫面（每 1 秒更新一次）\n",
    "camera.start_preview(interval=1.0)"
   ]
  },
  {
   "cell_type": "markdown",
   "metadata": {
    "id": "IyOMuPcE9twt"
   },
   "source": [
    "### 4.4 停止預覽"
   ]
  },
  {
   "cell_type": "code",
   "execution_count": null,
   "metadata": {
    "colab": {
     "base_uri": "https://localhost:8080/"
    },
    "executionInfo": {
     "elapsed": 4,
     "status": "ok",
     "timestamp": 1745719404408,
     "user": {
      "displayName": "羅文龍（Kevin）",
      "userId": "09597579618623360141"
     },
     "user_tz": -480
    },
    "id": "rgnk6kcJ9twt",
    "outputId": "e282cdb6-821a-4583-aade-5f2a07e77618"
   },
   "outputs": [
    {
     "name": "stdout",
     "output_type": "stream",
     "text": [
      "Preview stopped.\n"
     ]
    }
   ],
   "source": [
    "# 停止預覽\n",
    "camera.stop_preview()"
   ]
  },
  {
   "cell_type": "markdown",
   "metadata": {
    "id": "R9hFv-4c9twt"
   },
   "source": [
    "### 4.5 擷取快照 (改進版)\n",
    "\n",
    "我們可以使用 `capture_snapshot()` 方法來擷取攝影機的快照。這個改進版本會確保每次都擷取最新的畫面。"
   ]
  },
  {
   "cell_type": "code",
   "execution_count": null,
   "metadata": {
    "colab": {
     "base_uri": "https://localhost:8080/",
     "height": 512
    },
    "executionInfo": {
     "elapsed": 529,
     "status": "ok",
     "timestamp": 1745719462314,
     "user": {
      "displayName": "羅文龍（Kevin）",
      "userId": "09597579618623360141"
     },
     "user_tz": -480
    },
    "id": "y_ez94K-9twt",
    "outputId": "2fdff9d7-cc4f-4da5-b7a2-e55ea94c75e8"
   },
   "outputs": [],
   "source": [
    "# 擷取快照\n",
    "snapshot_path = camera.capture_snapshot()"
   ]
  },
  {
   "cell_type": "markdown",
   "metadata": {
    "id": "5fw7A-hU9twt"
   },
   "source": [
    "### 4.6 開始錄影\n",
    "\n",
    "我們可以使用 `start_recording()` 方法來開始錄影。預設情況下，每小時（3600 秒）會建立一個新的影片檔案。"
   ]
  },
  {
   "cell_type": "code",
   "execution_count": null,
   "metadata": {
    "id": "X4Ro0RBd9twu"
   },
   "outputs": [],
   "source": [
    "# 開始錄影，每 10 分鐘（600 秒）建立一個新的影片檔案\n",
    "camera.start_recording(duration_seconds=600)"
   ]
  },
  {
   "cell_type": "markdown",
   "metadata": {
    "id": "r49eNSs29twu"
   },
   "source": [
    "### 4.7 停止錄影"
   ]
  },
  {
   "cell_type": "code",
   "execution_count": null,
   "metadata": {
    "id": "5ncKaDsM9twu"
   },
   "outputs": [],
   "source": [
    "# 停止錄影\n",
    "camera.stop_recording()"
   ]
  },
  {
   "cell_type": "markdown",
   "metadata": {
    "id": "e0uvrdU-9twu"
   },
   "source": [
    "### 4.8 列出錄影檔案"
   ]
  },
  {
   "cell_type": "code",
   "execution_count": null,
   "metadata": {
    "id": "5_w-wb5i9twu"
   },
   "outputs": [],
   "source": [
    "# 列出錄影檔案\n",
    "recordings = camera.list_recordings()"
   ]
  },
  {
   "cell_type": "markdown",
   "metadata": {
    "id": "z30lpl5h9twu"
   },
   "source": [
    "### 4.9 下載錄影檔案\n",
    "\n",
    "我們可以使用 `download_recording()` 方法來下載錄影檔案到本地電腦。"
   ]
  },
  {
   "cell_type": "code",
   "execution_count": null,
   "metadata": {
    "id": "XxV-Xev19twu"
   },
   "outputs": [],
   "source": [
    "# 下載最新的錄影檔案\n",
    "camera.download_recording()"
   ]
  },
  {
   "cell_type": "markdown",
   "metadata": {
    "id": "6SJd43YX9twu"
   },
   "source": [
    "### 4.10 斷開連接\n",
    "\n",
    "完成所有操作後，我們應該斷開與攝影機的連接。"
   ]
  },
  {
   "cell_type": "code",
   "execution_count": null,
   "metadata": {
    "id": "PTDAX3g09twu"
   },
   "outputs": [],
   "source": [
    "# 斷開連接\n",
    "camera.disconnect()"
   ]
  },
  {
   "cell_type": "markdown",
   "metadata": {
    "id": "KtCR8juP9twu"
   },
   "source": [
    "## 5. 完整使用範例\n",
    "\n",
    "以下是一個完整的使用範例，展示如何連接到攝影機、預覽畫面、錄影和下載錄影檔案。"
   ]
  },
  {
   "cell_type": "code",
   "execution_count": null,
   "metadata": {
    "id": "jsjmmX_-9twu"
   },
   "outputs": [],
   "source": [
    "# 設定 NVR 參數\n",
    "NVR_IP = \"192.168.1.100\"  # 請更改為您的 NVR IP 地址\n",
    "RTSP_PORT = 554\n",
    "USERNAME = \"admin\"  # 請更改為您的 NVR 使用者名稱\n",
    "PASSWORD = \"password\"  # 請更改為您的 NVR 密碼\n",
    "CHANNEL = 1  # 攝影機通道號碼\n",
    "STREAM_TYPE = 1  # 1 為主碼流，2 為子碼流\n",
    "OUTPUT_DIR = \"hikvision_recordings\"  # 錄影檔案儲存目錄\n",
    "USE_DRIVE = True  # 是否使用 Google Drive 儲存錄影檔案\n",
    "\n",
    "try:\n",
    "    # 創建攝影機物件\n",
    "    camera = HikvisionNVRCamera(\n",
    "        nvr_ip=NVR_IP,\n",
    "        rtsp_port=RTSP_PORT,\n",
    "        username=USERNAME,\n",
    "        password=PASSWORD,\n",
    "        channel=CHANNEL,\n",
    "        stream_type=STREAM_TYPE,\n",
    "        output_dir=OUTPUT_DIR,\n",
    "        use_drive=USE_DRIVE\n",
    "    )\n",
    "\n",
    "    # 連接到攝影機\n",
    "    if camera.connect():\n",
    "        print(\"成功連接到攝影機！\")\n",
    "\n",
    "        # 顯示單一畫面\n",
    "        print(\"顯示單一畫面...\")\n",
    "        camera.show_single_frame()\n",
    "\n",
    "        # 開始預覽攝影機畫面\n",
    "        print(\"開始預覽攝影機畫面...\")\n",
    "        camera.start_preview(interval=1.0)\n",
    "\n",
    "        # 等待 5 秒\n",
    "        time.sleep(5)\n",
    "\n",
    "        # 停止預覽\n",
    "        print(\"停止預覽...\")\n",
    "        camera.stop_preview()\n",
    "\n",
    "        # 擷取快照\n",
    "        print(\"擷取快照...\")\n",
    "        snapshot_path = camera.capture_snapshot()\n",
    "\n",
    "        # 開始錄影\n",
    "        print(\"開始錄影...\")\n",
    "        camera.start_recording(duration_seconds=60)  # 每 60 秒建立一個新的影片檔案\n",
    "\n",
    "        # 錄影 10 秒\n",
    "        time.sleep(10)\n",
    "\n",
    "        # 停止錄影\n",
    "        print(\"停止錄影...\")\n",
    "        camera.stop_recording()\n",
    "\n",
    "        # 列出錄影檔案\n",
    "        print(\"列出錄影檔案...\")\n",
    "        recordings = camera.list_recordings()\n",
    "\n",
    "        # 下載最新的錄影檔案\n",
    "        if recordings:\n",
    "            print(\"下載最新的錄影檔案...\")\n",
    "            camera.download_recording(recordings[0])\n",
    "    else:\n",
    "        print(\"無法連接到攝影機，請檢查 NVR 設定和網路連接。\")\n",
    "except Exception as e:\n",
    "    print(f\"發生錯誤: {e}\")\n",
    "finally:\n",
    "    # 斷開連接\n",
    "    if 'camera' in locals() and camera.cap is not None:\n",
    "        print(\"斷開連接...\")\n",
    "        camera.disconnect()"
   ]
  },
  {
   "cell_type": "markdown",
   "metadata": {
    "id": "erHio6JU9twu"
   },
   "source": [
    "## 6. 預覽功能說明與故障排除\n",
    "\n",
    "在 Google Colab 環境中，預覽功能可能會遇到一些限制。以下是一些說明和故障排除方法：\n",
    "\n",
    "### 預覽方式\n",
    "\n",
    "本程式提供兩種預覽方式：\n",
    "\n",
    "1. **連續預覽** (`start_preview()`)：持續更新顯示攝影機畫面，適合監控即時狀況。\n",
    "2. **單一畫面** (`show_single_frame()`)：顯示攝影機的單一畫面，適合快速檢查攝影機狀態。\n",
    "\n",
    "### 改進的畫面更新機制\n",
    "\n",
    "在最新版本中，我們對畫面更新機制進行了以下改進：\n",
    "\n",
    "1. **緩衝區清除**：在 `show_single_frame()` 和 `capture_snapshot()` 函式中，我們會先清除緩衝區，確保每次都能獲取最新的畫面。\n",
    "\n",
    "2. **直接讀取畫面**：在 `_preview_loop()` 中，我們直接從攝影機讀取畫面，而不是使用儲存的 `latest_frame`，確保預覽顯示的是最新畫面。\n",
    "\n",
    "3. **錯誤處理**：增強了錯誤處理機制，當無法讀取畫面時會提供適當的警告訊息。\n",
    "\n",
    "### 常見問題與解決方法\n",
    "\n",
    "1. **預覽畫面沒有顯示**：\n",
    "   - 確保攝影機已成功連接（`connect()` 返回 `True`）\n",
    "   - 嘗試使用 `show_single_frame()` 來檢查是否能獲取畫面\n",
    "   - 增加更新間隔時間（例如：`interval=2.0`）\n",
    "   - 重新執行儲存格\n",
    "\n",
    "2. **預覽畫面更新緩慢**：\n",
    "   - 增加更新間隔時間（例如：`interval=2.0` 或更高）\n",
    "   - 使用子碼流（`stream_type=2`）以降低解析度\n",
    "   - 檢查網路連接速度\n",
    "\n",
    "3. **預覽畫面凍結**：\n",
    "   - 停止預覽（`stop_preview()`）\n",
    "   - 重新連接攝影機（`disconnect()` 然後 `connect()`）\n",
    "   - 重新啟動預覽（`start_preview()`）\n",
    "\n",
    "4. **記憶體不足錯誤**：\n",
    "   - 增加更新間隔時間\n",
    "   - 使用子碼流（`stream_type=2`）\n",
    "   - 使用 `show_single_frame()` 代替連續預覽\n",
    "   - 重新啟動 Colab 執行階段\n",
    "\n",
    "### 預覽最佳實踐\n",
    "\n",
    "1. 先使用 `show_single_frame()` 確認攝影機連接正常\n",
    "2. 使用 `start_preview(interval=1.0)` 開始連續預覽\n",
    "3. 完成預覽後，使用 `stop_preview()` 停止預覽\n",
    "4. 如果需要查看最新畫面，可以多次使用 `show_single_frame()` 來查看攝影機畫面"
   ]
  },
  {
   "cell_type": "markdown",
   "metadata": {
    "id": "V7VKWM3e9twu"
   },
   "source": [
    "## 7. Google Colab 特定考量事項\n",
    "\n",
    "在 Google Colab 中使用此程式碼時，有一些特定的考量事項需要注意：\n",
    "\n",
    "1. **網路連接**：Colab 運行在 Google 的伺服器上，無法直接存取您的本地網路。您需要確保 NVR 可以從公共網路存取，或者使用 VPN 或其他方式將 Colab 連接到您的本地網路。\n",
    "\n",
    "2. **Google Drive 整合**：為了長期儲存錄影檔案，建議使用 Google Drive。在上面的程式碼中，將 `use_drive` 參數設為 `True` 可以將錄影檔案儲存到您的 Google Drive。\n",
    "\n",
    "3. **Colab 執行時間限制**：Google Colab 有執行時間限制，免費版本通常在閒置一段時間後會自動斷開連接。如果您需要長時間錄影，可能需要考慮使用 Colab Pro 或在本地環境中運行程式碼。\n",
    "\n",
    "4. **記憶體限制**：處理高解析度影像和影片可能會消耗大量記憶體。如果遇到記憶體不足的問題，可以考慮使用子碼流（stream_type=2）來降低解析度，或者減少預覽更新頻率。\n",
    "\n",
    "5. **下載檔案**：Colab 提供了方便的檔案下載功能，但大型檔案的下載可能會很慢。如果您需要下載大量錄影檔案，建議將它們儲存到 Google Drive，然後從 Google Drive 下載。"
   ]
  },
  {
   "cell_type": "markdown",
   "metadata": {
    "id": "NuYn0umJ9twv"
   },
   "source": [
    "## 8. 故障排除\n",
    "\n",
    "如果您在使用此程式碼時遇到問題，以下是一些常見問題的解決方法：\n",
    "\n",
    "1. **無法連接到攝影機**：\n",
    "   - 確保 NVR 的 IP 地址、端口、用戶名和密碼正確\n",
    "   - 確保 NVR 可以從 Colab 環境存取（可能需要公共 IP 或 VPN）\n",
    "   - 確保 NVR 已啟用 RTSP 服務\n",
    "   - 嘗試使用 VLC 或其他 RTSP 播放器測試 RTSP URL\n",
    "\n",
    "2. **連接成功但無法讀取影像**：\n",
    "   - 確保攝影機通道號碼正確\n",
    "   - 嘗試使用子碼流（stream_type=2）\n",
    "   - 檢查 NVR 的 RTSP 串流設定\n",
    "\n",
    "3. **錄影檔案無法播放**：\n",
    "   - 確保錄影時間足夠長（至少幾秒鐘）\n",
    "   - 嘗試使用不同的影片播放器（如 VLC）\n",
    "   - 檢查錄影檔案的大小，如果太小可能表示沒有正確錄製\n",
    "\n",
    "4. **Google Drive 掛載失敗**：\n",
    "   - 確保您已登入 Google 帳戶\n",
    "   - 嘗試重新執行 `drive.mount('/content/drive')` 命令\n",
    "   - 如果仍然失敗，嘗試使用本地儲存（將 `use_drive` 設為 `False`）\n",
    "\n",
    "5. **記憶體不足錯誤**：\n",
    "   - 減少預覽更新頻率\n",
    "   - 使用子碼流（stream_type=2）降低解析度\n",
    "   - 重新啟動 Colab 執行階段並釋放記憶體"
   ]
  },
  {
   "cell_type": "markdown",
   "metadata": {
    "id": "bFw_HrtC9twv"
   },
   "source": [
    "## 9. 更新日誌\n",
    "\n",
    "### 版本 V2 (2025-04-27)\n",
    "- 修正了 `show_single_frame()` 函式，確保每次都讀取最新的即時畫面\n",
    "- 改進了 `_preview_loop()` 方法，直接從攝影機讀取畫面而不是使用儲存的 latest_frame\n",
    "- 改進了 `capture_snapshot()` 函式，確保每次都擷取最新的畫面\n",
    "- 增加了緩衝區清除機制，在讀取畫面前先清除緩衝區\n",
    "- 增強了錯誤處理機制\n",
    "\n",
    "### 版本 V1 (2025-04-25)\n",
    "- 初始版本\n",
    "- 實現了基本的 NVR 攝影機存取功能\n",
    "- 實現了錄影和預覽功能\n",
    "- 支援 Google Drive 整合\n",
    "- 提供了完整的使用範例和說明"
   ]
  }
 ],
 "metadata": {
  "colab": {
   "provenance": []
  },
  "kernelspec": {
   "display_name": "Python 3",
   "language": "python",
   "name": "python3"
  },
  "language_info": {
   "codemirror_mode": {
    "name": "ipython",
    "version": 3
   },
   "file_extension": ".py",
   "mimetype": "text/x-python",
   "name": "python",
   "nbconvert_exporter": "python",
   "pygments_lexer": "ipython3",
   "version": "3.11.3"
  }
 },
 "nbformat": 4,
 "nbformat_minor": 0
}
